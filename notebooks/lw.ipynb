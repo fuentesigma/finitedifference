{
 "cells": [
  {
   "cell_type": "markdown",
   "metadata": {},
   "source": [
    "<h1> Lax–Wendroff Method"
   ]
  },
  {
   "cell_type": "markdown",
   "metadata": {},
   "source": [
    "The scalar advection equation\n",
    "\\begin{equation}\n",
    "u_t+au_x=0\n",
    "\\end{equation}\n",
    "has the standard Lax–Wendroff method\n",
    "\\begin{equation}\n",
    "U^{n+1}_j = U_j^n - \\frac{ak}{2h}\\left(U_{j+1}^n-U_{j-1}^n\\right) + \\frac{a^2k^2}{2h^2}\\left(U^n_{j-1} -2 U^n-j + U^n_{j+1}\\right).\n",
    "\\end{equation}"
   ]
  },
  {
   "cell_type": "markdown",
   "metadata": {},
   "source": [
    "<h4> Essential Libraries </h4>"
   ]
  },
  {
   "cell_type": "code",
   "execution_count": null,
   "metadata": {
    "collapsed": false
   },
   "outputs": [],
   "source": [
    "# --------------------/\n",
    "%matplotlib inline\n",
    "# --------------------/\n",
    "import math\n",
    "import numpy as np\n",
    "import matplotlib.pyplot as plt\n",
    "\n",
    "from pylab import *\n",
    "from scipy import *\n",
    "from ipywidgets import *"
   ]
  },
  {
   "cell_type": "markdown",
   "metadata": {},
   "source": [
    "<h4> Lax–Wendroff Advection </h4>"
   ]
  },
  {
   "cell_type": "code",
   "execution_count": null,
   "metadata": {
    "collapsed": false
   },
   "outputs": [],
   "source": [
    "# --------------------/\n",
    "# domains and \n",
    "# parameters\n",
    "\n",
    "c = 2.0  # velocity\n",
    "a = -1.0\n",
    "b = 1.0\n",
    "T = 1.0\n",
    "\n",
    "# --------------------/\n",
    "# mesh and grid points\n",
    "\n",
    "# nodes\n",
    "n = 200\n",
    "\n",
    "# tolerance\n",
    "tol = 1e-5\n",
    "\n",
    "h = (b - a) / (1.0 + n)    \n",
    "k = 0.25 * h\n",
    "m = int(round(T / k))\n",
    "t = np.linspace(0, T, m)\n",
    "x = np.linspace(a, b, n + 2)\n",
    "\n",
    "tt, xx = meshgrid(t,x)\n",
    "    \n",
    "# --------------------/\n",
    "\n",
    "if abs( k * m - T) > tol:\n",
    "    print 'instability'\n",
    "\n",
    "# --------------------/\n",
    "\n",
    "# Courant-Friedrichs-Lewis\n",
    "CFL = c * k / h  \n",
    "\n",
    "# additional ghost cell\n",
    "u = np.zeros(n + 3)\n",
    "U = np.zeros((n + 2,m))\n",
    "\n",
    "# true solution\n",
    "f = lambda x: np.exp(-50*x**2)*np.cos(x)\n",
    "\n",
    "# initial conditions u(x,t0)\n",
    "u = f(x)\n",
    "\n",
    "# periodic boundary conditions\n",
    "u[0], u[-1] = u[-2], u[1]\n",
    "\n",
    "# --------------------/\n",
    "# Lax--Wendroff algorithm\n",
    "\n",
    "for i in range(m):\n",
    "    \n",
    "    u[1:-1] = (u[1:-1] - \n",
    "               0.5 * CFL * (u[2:] - u[0:-2]) + \n",
    "               0.5 * CFL**2 * (u[0:-2] - 2*u[1:-1] + u[2:])\n",
    "              )\n",
    "    \n",
    "    u[0], u[-1] = u[-2], u[1]\n",
    "    \n",
    "    U[:,i] = u\n",
    "    "
   ]
  },
  {
   "cell_type": "markdown",
   "metadata": {},
   "source": [
    "<h4> Plots"
   ]
  },
  {
   "cell_type": "code",
   "execution_count": null,
   "metadata": {
    "collapsed": false
   },
   "outputs": [],
   "source": [
    "# --------------------/\n",
    "# plots\n",
    "\n",
    "def evolution(step):\n",
    "    plt.figure(figsize=(5,5))\n",
    "    plt.plot(x, U[:,step], lw=4, alpha=0.5, color='dodgerblue')\n",
    "    plt.grid(color='lightgray', alpha=0.75)\n",
    "    plt.xlim(x.min() - 0.125, x.max() + 0.125)\n",
    "    plt.ylim(U[:,step].min() - 0.125, U[:,step].max() + 0.125)\n",
    "\n",
    "# --------------------/\n",
    "# interactive plot\n",
    "\n",
    "time = widgets.IntSlider(min=1, max=m-1, description='step')\n",
    "interact(evolution, step=time)"
   ]
  },
  {
   "cell_type": "markdown",
   "metadata": {
    "collapsed": true
   },
   "source": [
    "> NB property of [FVNTS](http://www.fvnts.ch/) "
   ]
  }
 ],
 "metadata": {
  "kernelspec": {
   "display_name": "Python [default]",
   "language": "python",
   "name": "python2"
  },
  "language_info": {
   "codemirror_mode": {
    "name": "ipython",
    "version": 2
   },
   "file_extension": ".py",
   "mimetype": "text/x-python",
   "name": "python",
   "nbconvert_exporter": "python",
   "pygments_lexer": "ipython2",
   "version": "2.7.12"
  }
 },
 "nbformat": 4,
 "nbformat_minor": 0
}
