{
 "cells": [
  {
   "cell_type": "markdown",
   "metadata": {},
   "source": [
    "<h1> Fractional Diffusion Equation </h1>"
   ]
  },
  {
   "cell_type": "markdown",
   "metadata": {},
   "source": [
    "We solve the one dimensional fractional diffusion equation\n",
    "\\begin{equation}\n",
    "\\left\\{ \\begin{array}{ll}\n",
    "u_t(x,t)=d(x)\\,\\partial^\\alpha_x u(x,t), & 1\\leq\\alpha\\leq2,\\\\\n",
    "u(x,t_0)=f(x), & x\\in\\mathbb{R},\\\\\n",
    "u(x,t)=0, & \\vert x \\vert\\rightarrow\\infty,\n",
    "\\end{array} \\right. \n",
    "\\end{equation}\n",
    "with $d(x)>0$, by using discrete representations of Riemann–Liouville (left) derivative."
   ]
  },
  {
   "cell_type": "markdown",
   "metadata": {},
   "source": [
    "<h2> Essential Libraries </h2> "
   ]
  },
  {
   "cell_type": "code",
   "execution_count": 1,
   "metadata": {
    "collapsed": false
   },
   "outputs": [],
   "source": [
    "# ----------------------------------------/\n",
    "%matplotlib inline\n",
    "# ----------------------------------------/\n",
    "import numpy as np\n",
    "import matplotlib.pyplot as plt\n",
    "\n",
    "from scipy import *\n",
    "from ipywidgets import *\n",
    "from scipy import linalg\n",
    "from numpy import asmatrix\n",
    "from numpy import matlib as ml\n",
    "from scipy.sparse import spdiags"
   ]
  },
  {
   "cell_type": "markdown",
   "metadata": {},
   "source": [
    "<h2> Functions </h2>"
   ]
  },
  {
   "cell_type": "code",
   "execution_count": 2,
   "metadata": {
    "collapsed": false
   },
   "outputs": [],
   "source": [
    "def w(a,j,k):\n",
    "    \"\"\"\n",
    "    interpolation weight coefficients\n",
    "    \"\"\"\n",
    "    if (k <= j - 1):\n",
    "        r = (j-k+1)**(3-a) - 2*(j-k)**(3-a) + (j-k-1)**(3-a)\n",
    "    elif (k == j):\n",
    "        r = 1\n",
    "    return r\n",
    "# -----------------------------------------------------------------/\n",
    "def q(a,j,k):\n",
    "    \"\"\"\n",
    "    Sousa-Li weight coefficients\n",
    "    \"\"\"\n",
    "    if (k <= j - 1):\n",
    "        r = w(a,j-1,k)-2*w(a,j,k) + w(a,j+1,k)\n",
    "    elif (k == j):\n",
    "        r = -2*w(a,j,j) + w(a,j+1,j)\n",
    "    elif (k == j + 1):\n",
    "        r = w(a,j+1,j+1)\n",
    "    return r"
   ]
  },
  {
   "cell_type": "markdown",
   "metadata": {},
   "source": [
    "<h2> Definitions </h2>"
   ]
  },
  {
   "cell_type": "code",
   "execution_count": 7,
   "metadata": {
    "collapsed": false
   },
   "outputs": [],
   "source": [
    "# space, time domain\n",
    "xi, xf, ti, tf = -2, 2, 0, 5\n",
    "\n",
    "# fractional order (1,2]\n",
    "alpha = 1\n",
    "\n",
    "# grid points\n",
    "mu = 200\n",
    "\n",
    "# steps\n",
    "n = mu\n",
    "\n",
    "# space, time intervals\n",
    "h = (xf - xi)/(1.0 + mu)\n",
    "k = (tf - ti)/float(n)\n",
    "\n",
    "m = mu + 2\n",
    "\n",
    "# coordinates\n",
    "x = np.linspace(xi,xf,m)\n",
    "t = np.linspace(ti,tf,n)\n",
    "\n",
    "# convex weight in [1/2,1]\n",
    "tau = 0.5\n",
    "\n",
    "# vectors\n",
    "o = np.ones(m)\n",
    "u = np.zeros(m)\n",
    "\n",
    "# matrices\n",
    "I = ml.eye(m)\n",
    "Q = np.zeros((m,m))\n",
    "M = np.zeros((m,m))\n",
    "U = np.zeros((m,n))"
   ]
  },
  {
   "cell_type": "markdown",
   "metadata": {},
   "source": [
    "<h2>Initial + Boundary Data</h2>"
   ]
  },
  {
   "cell_type": "code",
   "execution_count": 8,
   "metadata": {
    "collapsed": true
   },
   "outputs": [],
   "source": [
    "# initial condition\n",
    "f = lambda x: 4*(x**2)*(2-x)**2\n",
    "\n",
    "# boundary condition (bona fide)\n",
    "g = lambda x, t: 4*(x**2)*(2-x)**2\n",
    "\n",
    "# diffusion\n",
    "d = lambda x: 0.25*x**alpha"
   ]
  },
  {
   "cell_type": "markdown",
   "metadata": {},
   "source": [
    "<h2> Method </h2>"
   ]
  },
  {
   "cell_type": "code",
   "execution_count": 9,
   "metadata": {
    "collapsed": false
   },
   "outputs": [],
   "source": [
    "# diagonal mattrix\n",
    "M = k*h**(-alpha)/math.gamma(4.0 - alpha) * spdiags([d(x)], [0], m, m).toarray()\n",
    "# -----------------------------------------------------------------/\n",
    "for j in range(m):\n",
    "    for k in range(m):\n",
    "        if (k <= j - 1):\n",
    "            Q[j,k] = q(alpha,j,k)\n",
    "        elif (k == j):\n",
    "            Q[j,k] = q(alpha,j,j)\n",
    "        elif (k == j + 1):\n",
    "            Q[j,k] = q(alpha,j,j + 1)\n",
    "        elif k > j + 1:\n",
    "            Q[j,k] = 0\n",
    "# -----------------------------------------------------------------/\n",
    "Ap = I - tau*M.dot(Q)\n",
    "An = I + (1 - tau)*M.dot(Q)\n",
    "# -----------------------------------------------------------------/\n",
    "# left boundary\n",
    "Ap[0,0], Ap[0,1] = 1, 0\n",
    "\n",
    "# right boundary\n",
    "Ap[m-1,m-2], Ap[m-1,m-1] = 0, 1\n",
    "\n",
    "# left boundary\n",
    "An[0,0], An[0,1] = 1, 0\n",
    "\n",
    "# right boundary\n",
    "An[m-1,m-2], An[m-1,m-1] = 0, 1\n",
    "# -----------------------------------------------------------------/\n",
    "Ai = linalg.inv(Ap)\n",
    "# -----------------------------------------------------------------/\n",
    "# initial condition\n",
    "u = f(x)[:, None]\n",
    "# -----------------------------------------------------------------/\n",
    "for i in range(n):\n",
    "    # boundary conditions\n",
    "    u[0], u[-1] = g(xi, i*k + ti), g(xf, i*k + ti)\n",
    "    \n",
    "    # store data\n",
    "    U[:,i] = np.asarray(u)[:,0]\n",
    "    \n",
    "    # solve linear system\n",
    "    b = np.asmatrix(An) * np.asmatrix(u)\n",
    "    u = np.asmatrix(Ai) * b"
   ]
  },
  {
   "cell_type": "markdown",
   "metadata": {},
   "source": [
    "<h2> Plots </h2>"
   ]
  },
  {
   "cell_type": "code",
   "execution_count": 10,
   "metadata": {
    "collapsed": false
   },
   "outputs": [
    {
     "data": {
      "image/png": "[encoded data removed]",
      "text/plain": [
       "<matplotlib.figure.Figure at 0x10f9a7910>"
      ]
     },
     "metadata": {},
     "output_type": "display_data"
    }
   ],
   "source": [
    "# --------------------/\n",
    "# plots\n",
    "def evolution(step):\n",
    "    plt.figure(figsize=(5,5))\n",
    "    plt.plot(x, U[:,step], lw=3, alpha=0.5, color='deeppink')\n",
    "    plt.grid(color='gray', alpha=0.95)\n",
    "    plt.xlim(x.min() - 0.125, x.max() + 0.125)\n",
    "    plt.ylim(U.min() - 0.125, U.max() + 0.125)\n",
    "# --------------------/\n",
    "# interactive plot\n",
    "step = widgets.IntSlider(min=0, max=n-1, description='step')\n",
    "interact(evolution, step=step)"
   ]
  },
  {
   "cell_type": "code",
   "execution_count": null,
   "metadata": {
    "collapsed": false
   },
   "outputs": [],
   "source": [
    "%reset"
   ]
  },
  {
   "cell_type": "markdown",
   "metadata": {},
   "source": [
    "> NB property of [FVNTS](http://www.fvnts.ch/) "
   ]
  }
 ],
 "metadata": {
  "anaconda-cloud": {},
  "kernelspec": {
   "display_name": "Python [default]",
   "language": "python",
   "name": "python2"
  },
  "language_info": {
   "codemirror_mode": {
    "name": "ipython",
    "version": 2
   },
   "file_extension": ".py",
   "mimetype": "text/x-python",
   "name": "python",
   "nbconvert_exporter": "python",
   "pygments_lexer": "ipython2",
   "version": "2.7.12"
  },
  "widgets": {
   "state": {
    "c9f83de9f6ac4d84902d0d20886d425b": {
     "views": [
      {
       "cell_index": 13
      }
     ]
    }
   },
   "version": "1.2.0"
  }
 },
 "nbformat": 4,
 "nbformat_minor": 1
}
