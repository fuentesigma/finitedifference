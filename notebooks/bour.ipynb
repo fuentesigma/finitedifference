{
 "cells": [
  {
   "cell_type": "markdown",
   "metadata": {},
   "source": [
    "<h1> Bour Equation </h1>"
   ]
  },
  {
   "cell_type": "markdown",
   "metadata": {},
   "source": [
    "Bour equation (a.k.a sine-Gordon) takes the canonical form\n",
    "\\begin{equation}\n",
    "u_{xt}-\\frac{1}{\\rho^2}\\sin(u)=0,\n",
    "\\end{equation}\n",
    "where $-1/\\rho^2$ equals the Gaussian curvature $\\kappa$.\n",
    "\n",
    "The Crank-Nicolson scheme for this equation takes the form\n",
    "\\begin{equation}\n",
    "u^{n+1}_{i+1} - u^{n+1}_{i-1}=u^{n}_{i+1} - u^{n}_{i-1} + \\frac{2hk}{\\rho^2}\\sin(u^n_i),\n",
    "\\end{equation}\n",
    "with $i=1,\\ldots,m$ and $n=1,\\ldots,N$, provided $m$ and $N$, grid points and time steps."
   ]
  },
  {
   "cell_type": "markdown",
   "metadata": {},
   "source": [
    "<h4> Essential Libraries </h4>"
   ]
  },
  {
   "cell_type": "code",
   "execution_count": 1,
   "metadata": {
    "collapsed": true
   },
   "outputs": [],
   "source": [
    "# ----------------------------------------/\n",
    "%matplotlib inline\n",
    "# ----------------------------------------/\n",
    "import math\n",
    "import numpy as np\n",
    "import matplotlib.pyplot as plt\n",
    "import scipy.sparse.linalg as la\n",
    "\n",
    "from pylab import *\n",
    "from scipy import *\n",
    "from ipywidgets import *\n",
    "from scipy.sparse import spdiags\n",
    "from numpy import asmatrix as MX"
   ]
  },
  {
   "cell_type": "markdown",
   "metadata": {},
   "source": [
    "<h4> Basic Definitions</h4>"
   ]
  },
  {
   "cell_type": "code",
   "execution_count": 2,
   "metadata": {
    "collapsed": false
   },
   "outputs": [],
   "source": [
    "# space, time domain\n",
    "a, b, t = -50, 50, 20\n",
    "\n",
    "# grid points\n",
    "m = 256\n",
    "\n",
    "# curvature\n",
    "r = 1.5\n",
    "\n",
    "# spatial domain\n",
    "x = np.linspace(a, b, m)\n",
    "\n",
    "# mesh width\n",
    "h = (b - a)/(1.0 + m)\n",
    "\n",
    "# time steps\n",
    "k = 0.001 * h\n",
    "n = int(t / k)\n",
    "\n",
    "# vectors solution with ghost boundaries\n",
    "u = np.zeros(m + 2)\n",
    "v = np.zeros((m + 2, n))\n",
    "\n",
    "# triangular structure\n",
    "o = np.ones(m)\n",
    "\n",
    "# coefficients matrix\n",
    "A = spdiags( [-1*o, 0*o, 1*o], [-1, 0, 1], m, m).toarray()"
   ]
  },
  {
   "cell_type": "markdown",
   "metadata": {},
   "source": [
    "<h4> Initial Value </h4>"
   ]
  },
  {
   "cell_type": "code",
   "execution_count": 8,
   "metadata": {
    "collapsed": true
   },
   "outputs": [],
   "source": [
    "def f(x, alpha, beta, a, b):\n",
    "    \"\"\"\n",
    "    initial guess or\n",
    "    initial value condition\n",
    "    \n",
    "    kink\n",
    "    4*np.arctan(np.exp(beta/r * x + alpha))\n",
    "    \n",
    "    breather\n",
    "    4*np.arctan( (alpha*np.cos(b*x)) / (beta*np.cosh(a*x)) )\n",
    "    \"\"\"\n",
    "    return 4*np.arctan( (alpha*np.cos(b*x)) / (beta*np.cosh(a*x)) )\n",
    "# --------------------------------------------------/\n",
    "def g(u):\n",
    "    \"\"\"\n",
    "    RHS vector\n",
    "    \"\"\"\n",
    "    return u[2:] - u[:-2] - (2*h*k/r**2)*np.sin(u[1:-1])"
   ]
  },
  {
   "cell_type": "code",
   "execution_count": null,
   "metadata": {
    "collapsed": true
   },
   "outputs": [],
   "source": [
    "# vectors solution with ghost boundaries\n",
    "u = np.zeros(m + 4)\n",
    "v = np.zeros((m + 4, n))\n",
    "\"\"\"\n",
    "\n",
    "f(x, alpha, beta, a, b)\n",
    "\n",
    "NUMERICAL TESTS/EXPERIMENTS\n",
    "\n",
    "alpha beta  a     b\n",
    "-----------------------\n",
    "10.0  1.05  0.85  0.125\n",
    "10.0  1.05  0.75  0.010\n",
    " 8.0  0.85  0.75  0.010\n",
    " 1.0  0.50  0.85  0.200\n",
    " \n",
    "\"\"\"\n",
    "u[2:-2] = f(x - 5, 1, 0.5, 0.85, 0.2)"
   ]
  },
  {
   "cell_type": "markdown",
   "metadata": {},
   "source": [
    "<h4> Algorithm </h4>"
   ]
  },
  {
   "cell_type": "code",
   "execution_count": 9,
   "metadata": {
    "collapsed": false
   },
   "outputs": [],
   "source": [
    "for j in range(n):\n",
    "    v[:,j] = u\n",
    "    u[1:-1] = dot(MX(A).I, g(u))"
   ]
  },
  {
   "cell_type": "markdown",
   "metadata": {},
   "source": [
    "<h4> Plots </h4>"
   ]
  },
  {
   "cell_type": "code",
   "execution_count": 10,
   "metadata": {
    "collapsed": false,
    "scrolled": true
   },
   "outputs": [
    {
     "data": {
      "image/png": "[encoded data removed]",
      "text/plain": [
       "<matplotlib.figure.Figure at 0x1171e1910>"
      ]
     },
     "metadata": {},
     "output_type": "display_data"
    }
   ],
   "source": [
    "def evolution(step):\n",
    "    l = 2e-1\n",
    "    plt.figure(figsize=(10,5))\n",
    "    plt.plot(x, v[1:-1,step], lw=2, alpha=0.75, color='deeppink', linestyle=':')\n",
    "    plt.grid(color='lightslategray', alpha=0.90)\n",
    "    plt.xlim(x.min() - l, x.max() + l)\n",
    "    plt.ylim(v.min() - l, v.max() + l)\n",
    "# --------------------------------------------------/\n",
    "# interactive plot\n",
    "step = widgets.IntSlider(min=0, max=n-1, description='step')\n",
    "interact(evolution, step=step)"
   ]
  },
  {
   "cell_type": "markdown",
   "metadata": {},
   "source": [
    "> NB property of [FVNTS](http://www.fvnts.ch/) "
   ]
  }
 ],
 "metadata": {
  "anaconda-cloud": {},
  "kernelspec": {
   "display_name": "Python [default]",
   "language": "python",
   "name": "python2"
  },
  "language_info": {
   "codemirror_mode": {
    "name": "ipython",
    "version": 2
   },
   "file_extension": ".py",
   "mimetype": "text/x-python",
   "name": "python",
   "nbconvert_exporter": "python",
   "pygments_lexer": "ipython2",
   "version": "2.7.12"
  },
  "widgets": {
   "state": {
    "df011771a7a34221934035079ca5367e": {
     "views": [
      {
       "cell_index": 11
      }
     ]
    }
   },
   "version": "1.2.0"
  }
 },
 "nbformat": 4,
 "nbformat_minor": 1
}
