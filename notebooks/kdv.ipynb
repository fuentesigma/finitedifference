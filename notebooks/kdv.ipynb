{
 "cells": [
  {
   "cell_type": "markdown",
   "metadata": {},
   "source": [
    "<h1> KdV"
   ]
  },
  {
   "cell_type": "markdown",
   "metadata": {},
   "source": [
    "<h4> Essential Libraries </h4>"
   ]
  },
  {
   "cell_type": "code",
   "execution_count": 1,
   "metadata": {
    "collapsed": true
   },
   "outputs": [],
   "source": [
    "# --------------------/\n",
    "%matplotlib inline\n",
    "# --------------------/\n",
    "\n",
    "import math\n",
    "import mpld3\n",
    "import time\n",
    "import numpy as np\n",
    "import matplotlib.pyplot as plt\n",
    "\n",
    "# --------------------/\n",
    "\n",
    "from pylab import *\n",
    "from scipy import *\n",
    "from ipywidgets import *\n",
    "\n",
    "from numpy import asmatrix as MX\n",
    "from scipy.sparse import spdiags\n",
    "\n",
    "# --------------------/\n",
    "#mpld3.enable_notebook()\n",
    "# --------------------/"
   ]
  },
  {
   "cell_type": "markdown",
   "metadata": {},
   "source": [
    "<h4> Template </h4>"
   ]
  },
  {
   "cell_type": "code",
   "execution_count": 2,
   "metadata": {
    "collapsed": false,
    "scrolled": true
   },
   "outputs": [
    {
     "name": "stdout",
     "output_type": "stream",
     "text": [
      "time steps = 6853\n"
     ]
    },
    {
     "data": {
      "image/png": "[encoded data removed]",
      "text/plain": [
       "<matplotlib.figure.Figure at 0x106c9b7d0>"
      ]
     },
     "metadata": {},
     "output_type": "display_data"
    }
   ],
   "source": [
    "# --------------------/\n",
    "# time and space domain\n",
    "\n",
    "a = -20.0\n",
    "b =  20.0\n",
    "T =  8.0\n",
    "\n",
    "# --------------------/\n",
    "# definitions\n",
    "\n",
    "m = 256\n",
    "h = (b - a) / (1.0 + m)\n",
    "k = 0.0075 * h\n",
    "n = int(round(T / k))\n",
    "\n",
    "# --------------------/\n",
    "# space domain\n",
    "x = np.linspace(a, b, m)\n",
    "\n",
    "# time domain\n",
    "#t = np.linspace(0, T, n)\n",
    "\n",
    "# for nth-diagonal matrix\n",
    "o = np.ones(m)\n",
    "\n",
    "# vector solution with phantom domain\n",
    "u = np.zeros(m + 4)\n",
    "U = np.zeros((m,n))\n",
    "\n",
    "# --------------------/\n",
    "\n",
    "alpha = k / (2.0*h)\n",
    "beta  = k / (2.0*h**3)\n",
    "\n",
    "# --------------------/\n",
    "# source\n",
    "# parameters: v, x0\n",
    "f  = lambda x, x0, v: 2.0*(v**2)*np.cosh(v*(x - x0))**(-2)\n",
    "\n",
    "# initial condition u(x,t0)\n",
    "u[2:-2] = f(x,-10.0,1.25) + f(x,-2.0,0.75)\n",
    "\n",
    "# --------------------/\n",
    "\n",
    "plt.figure(figsize=(5,5))\n",
    "plt.plot(x, u[2:-2], lw=2, alpha=0.5, color='dodgerblue')\n",
    "plt.grid(color='lightgray', alpha=0.75)\n",
    "plt.ylim(u.min(), u.max())\n",
    "\n",
    "# --------------------/\n",
    "print 'time steps =', n\n",
    "# --------------------/"
   ]
  },
  {
   "cell_type": "markdown",
   "metadata": {},
   "source": [
    "<h4> Crank–Nicolson Scheme </h4>"
   ]
  },
  {
   "cell_type": "code",
   "execution_count": 3,
   "metadata": {
    "collapsed": false
   },
   "outputs": [
    {
     "name": "stdout",
     "output_type": "stream",
     "text": [
      "time = 67.475552\n"
     ]
    }
   ],
   "source": [
    "# --------------------/\n",
    "# algorithm\n",
    "\n",
    "tic = time.clock()\n",
    "\n",
    "for i in range(1, n):\n",
    "    \n",
    "    p = 6.0*alpha*u[2:-2] - 4.0*beta - 1.0\n",
    "    q = 6.0*alpha*u[2:-2] - 4.0*beta + 1.0\n",
    "    r = 6.0*beta - 12.0*alpha*u[2:-2]\n",
    "    \n",
    "    # linear system\n",
    "    A = spdiags(\n",
    "        [beta*o, p, r, q, beta*o],\n",
    "        [-2, -1, 0, 1, 2], m, m\n",
    "    ).toarray()\n",
    "    \n",
    "    B = (u[3:-1] - u[1:-3] - \n",
    "         beta*(u[:-4] - 4*u[1:-3] + 6*u[2:-2] - 4*u[3:-1] + u[4:] )\n",
    "        )\n",
    "                \n",
    "    # casting vector solution\n",
    "    U[:,i] = u[2:-2] = np.asarray(MX(A).I * MX(B).T)[:,0]\n",
    "\n",
    "# --------------------/\n",
    "# elapsed time \n",
    "\n",
    "toc = time.clock()\n",
    "print 'time =', toc - tic\n"
   ]
  },
  {
   "cell_type": "markdown",
   "metadata": {},
   "source": [
    "<h4> Plots </h4>"
   ]
  },
  {
   "cell_type": "code",
   "execution_count": 4,
   "metadata": {
    "collapsed": false
   },
   "outputs": [
    {
     "data": {
      "image/png": "[encoded data removed]",
      "text/plain": [
       "<matplotlib.figure.Figure at 0x107a406d0>"
      ]
     },
     "metadata": {},
     "output_type": "display_data"
    }
   ],
   "source": [
    "# --------------------/\n",
    "# plots\n",
    "\n",
    "def evolution(step):\n",
    "    plt.figure(figsize=(5,5))\n",
    "    plt.plot(x, U[:,step], lw=2, alpha=0.5, color='dodgerblue')\n",
    "    plt.grid(color='lightgray', alpha=0.75)\n",
    "    plt.xlim(x.min() - 0.125, x.max() + 0.125)\n",
    "    plt.ylim(U.min() - 0.125, U.max() + 0.125)\n",
    "\n",
    "# --------------------/\n",
    "# interactive plot\n",
    "\n",
    "step = widgets.IntSlider(min=1, max=int(n*0.95)-1, description='step')\n",
    "interact(evolution, step=step)\n"
   ]
  },
  {
   "cell_type": "markdown",
   "metadata": {},
   "source": [
    "> NB property of [FVNTS](http://www.fvnts.ch/) "
   ]
  }
 ],
 "metadata": {
  "kernelspec": {
   "display_name": "Python [default]",
   "language": "python",
   "name": "python2"
  },
  "language_info": {
   "codemirror_mode": {
    "name": "ipython",
    "version": 2
   },
   "file_extension": ".py",
   "mimetype": "text/x-python",
   "name": "python",
   "nbconvert_exporter": "python",
   "pygments_lexer": "ipython2",
   "version": "2.7.12"
  }
 },
 "nbformat": 4,
 "nbformat_minor": 0
}
