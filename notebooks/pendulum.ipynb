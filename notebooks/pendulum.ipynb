{
 "cells": [
  {
   "cell_type": "markdown",
   "metadata": {},
   "source": [
    "<h1> Finite Differences </h1>"
   ]
  },
  {
   "cell_type": "markdown",
   "metadata": {},
   "source": [
    "<h4> Essential Libraries </h4>"
   ]
  },
  {
   "cell_type": "code",
   "execution_count": 1,
   "metadata": {
    "collapsed": false
   },
   "outputs": [],
   "source": [
    "# --------------------/\n",
    "%matplotlib inline\n",
    "# --------------------/\n",
    "import h5py\n",
    "import mpld3\n",
    "import math as mt\n",
    "import numpy as np\n",
    "import random as rnd\n",
    "import matplotlib.pyplot as plt\n",
    "\n",
    "from pylab import *\n",
    "from scipy import *\n",
    "from numpy import asmatrix as MX\n",
    "from scipy.sparse import spdiags\n",
    "from mpl_toolkits.mplot3d import axes3d\n",
    "# --------------------/\n",
    "#mpld3.enable_notebook()\n",
    "# --------------------/"
   ]
  },
  {
   "cell_type": "markdown",
   "metadata": {},
   "source": [
    "<h4> Nonlinear Pendulum </h4>"
   ]
  },
  {
   "cell_type": "code",
   "execution_count": 2,
   "metadata": {
    "collapsed": false
   },
   "outputs": [
    {
     "data": {
      "text/plain": [
       "<matplotlib.legend.Legend at 0x10486acd0>"
      ]
     },
     "execution_count": 2,
     "metadata": {},
     "output_type": "execute_result"
    },
    {
     "data": {
      "image/png": "[encoded data removed]",
      "text/plain": [
       "<matplotlib.figure.Figure at 0x101c86290>"
      ]
     },
     "metadata": {},
     "output_type": "display_data"
    }
   ],
   "source": [
    "# --------------------/\n",
    "# domain and boundaries\n",
    "\n",
    "a = 0.0\n",
    "b = 1.0 * math.pi\n",
    "A = 0.1\n",
    "B = A - 1.0\n",
    "\n",
    "# --------------------/\n",
    "# number of iterations\n",
    "\n",
    "loops = 12\n",
    "\n",
    "# --------------------/\n",
    "# grid points, mesh\n",
    "# and other definitions\n",
    "\n",
    "m = 64\n",
    "o = np.ones(m)\n",
    "h = (b - a) / (1.0 + m)\n",
    "t = np.linspace(a + h, b - h, m)\n",
    "T = np.linspace(a, b, m + 2)\n",
    "u = np.zeros(m)\n",
    "U = np.zeros(m + 2)\n",
    "\n",
    "# --------------------/\n",
    "# symbolic maps\n",
    "# --------------------/\n",
    "\n",
    "# pseudo source\n",
    "f = lambda x: 1.0 * np.cos(x) + B * np.cos(x)\n",
    "\n",
    "# diagonal elements\n",
    "d = lambda x: -2 + h**2 * np.cos(x)\n",
    "\n",
    "# LHS \n",
    "g = lambda X, x: h**(-2) * ( X[0:-2] - 2*x[:] + X[2:] ) +  np.sin(x[:])\n",
    "\n",
    "# --------------------/\n",
    "# fit the interior and \n",
    "# boundary points\n",
    "\n",
    "# initial guess\n",
    "u = f(t)\n",
    "\n",
    "# boundaries\n",
    "U[0]  = A\n",
    "U[-1] = -A\n",
    "\n",
    "# tranpose\n",
    "u = MX(u).T\n",
    "U = MX(U).T\n",
    "\n",
    "# --------------------/\n",
    "# Jacobian matrix\n",
    "\n",
    "J = h**(-2) * spdiags( [o, d(t), o], [-1, 0, 1], m, m).toarray()\n",
    "\n",
    "# --------------------/\n",
    "# plot outcomes\n",
    "\n",
    "figure(figsize=(5,5))\n",
    "labels = []\n",
    "\n",
    "# --------------------/\n",
    "# algorithm \n",
    "\n",
    "U[1:-1] = u\n",
    "for i in range(0,loops):\n",
    "    u = u - MX(J).I * g(U,u)\n",
    "    U[1:-1] = u\n",
    "    if i % 2 == 0:\n",
    "        plt.plot(T, U)\n",
    "        labels.append(r'$k = %i$' % i)\n",
    "    \n",
    "plt.legend(labels, ncol=4, loc='upper center', \n",
    "           bbox_to_anchor=[0.5, 1.1], \n",
    "           columnspacing=1.0, labelspacing=0.0,\n",
    "           handletextpad=0.0, handlelength=1.5,\n",
    "           fancybox=True, shadow=True)\n"
   ]
  },
  {
   "cell_type": "markdown",
   "metadata": {
    "collapsed": true
   },
   "source": [
    "> NB property of [FVNTS](http://www.fvnts.ch/) "
   ]
  }
 ],
 "metadata": {
  "anaconda-cloud": {},
  "kernelspec": {
   "display_name": "Python [default]",
   "language": "python",
   "name": "python2"
  },
  "language_info": {
   "codemirror_mode": {
    "name": "ipython",
    "version": 2
   },
   "file_extension": ".py",
   "mimetype": "text/x-python",
   "name": "python",
   "nbconvert_exporter": "python",
   "pygments_lexer": "ipython2",
   "version": "2.7.12"
  }
 },
 "nbformat": 4,
 "nbformat_minor": 0
}
