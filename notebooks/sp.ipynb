{
 "cells": [
  {
   "cell_type": "markdown",
   "metadata": {},
   "source": [
    "<h1> Quiescent SP </h1>"
   ]
  },
  {
   "cell_type": "markdown",
   "metadata": {},
   "source": [
    "Quiescent Schrödinger–Poisson initial value problem \n",
    "\\begin{equation} \n",
    "\\left\\{ \\begin{array}{ll}\n",
    "u_{xxxx} \\approx \\lambda u^3, & \\mbox{$a\\leq x\\leq b$},\\\\\n",
    "u(x_0) = \\alpha, \\, u_x(x_0) = \\beta, \\, u_{xx}(x_0) = \\gamma, \\, u_{xxx}(x_0) = \\delta, & \\mbox{$a \\leq x_0 \\leq b$},\n",
    "\\end{array} \\right. \n",
    "\\end{equation}\n",
    "with $\\alpha,\\beta,\\gamma,\\delta,\\lambda\\in\\mathbb{R}$,  is  solved  using  Runge–Kutta IV method."
   ]
  },
  {
   "cell_type": "markdown",
   "metadata": {},
   "source": [
    "<h4> Essential Libraries </h4>"
   ]
  },
  {
   "cell_type": "code",
   "execution_count": 1,
   "metadata": {
    "collapsed": true
   },
   "outputs": [],
   "source": [
    "# --------------------/\n",
    "%matplotlib inline\n",
    "# --------------------/\n",
    "import math\n",
    "import numpy as np\n",
    "import matplotlib.pyplot as plt\n",
    "\n",
    "from pylab import *\n",
    "from scipy import *\n",
    "from ipywidgets import *"
   ]
  },
  {
   "cell_type": "markdown",
   "metadata": {},
   "source": [
    "<h4> Initial Value Problem </h4>"
   ]
  },
  {
   "cell_type": "code",
   "execution_count": 641,
   "metadata": {
    "collapsed": false
   },
   "outputs": [],
   "source": [
    "def F(x):\n",
    "    \"\"\"\n",
    "    Bour breather\n",
    "    \"\"\"\n",
    "    a, b = 0.8, -7.3\n",
    "    A, B = 0.6, 0.7 \n",
    "    return np.arctan((A*np.cos(b*x)) / (B*np.cosh(a*x)))\n",
    "# ------------------------------------------------------------/\n",
    "def f(x, a, b, c, u):\n",
    "    \"\"\"\n",
    "    du/dx = p\n",
    "    \"\"\"\n",
    "    return a\n",
    "# ------------------------------------------------------------/\n",
    "def g(x, a, b, c, u):\n",
    "    \"\"\"\n",
    "    dp/dx = q\n",
    "    \"\"\"\n",
    "    return b\n",
    "# ------------------------------------------------------------/\n",
    "def h(x, a, b, c, u):\n",
    "    \"\"\"\n",
    "    dq/dx = r\n",
    "    \"\"\"\n",
    "    return c\n",
    "# ------------------------------------------------------------/\n",
    "def j(x, a, b, c, u):\n",
    "    \"\"\"\n",
    "    dr/dx = l*u**3\n",
    "    \"\"\"\n",
    "    T0 = u**3\n",
    "    T1 = 3*u**2*a*x\n",
    "    T2 = 3*(u*a**2 + 1.5*u**2*b)*x**2\n",
    "    T3 = (a**3 + 3*u*a*b + 0.5*u**2*c)*x**3\n",
    "    return 1.0*(T0 + T1 + T2 + T3) - 0.5*np.exp(-0.01*x**2)\n",
    "# ------------------------------------------------------------/"
   ]
  },
  {
   "cell_type": "markdown",
   "metadata": {},
   "source": [
    "<h4> Runge-Kutta IV </h4>"
   ]
  },
  {
   "cell_type": "code",
   "execution_count": 642,
   "metadata": {
    "collapsed": true
   },
   "outputs": [],
   "source": [
    "def rk(x, a, b, c, d):\n",
    "    \"\"\"\n",
    "    Runge-Kutta IV Order\n",
    "    \"\"\"\n",
    "    \n",
    "    # first stage\n",
    "    A1 = k*f(x, a, b, c, d)\n",
    "    B1 = k*g(x, a, b, c, d)\n",
    "    C1 = k*h(x, a, b, c, d)\n",
    "    D1 = k*j(x, a, b, c, d)\n",
    "    \n",
    "    # second stage\n",
    "    A2 = k*f(x + 0.5*k, a + 0.5*A1, b + 0.5*B1, c + 0.5*C1, d + 0.5*D1)\n",
    "    B2 = k*g(x + 0.5*k, a + 0.5*A1, b + 0.5*B1, c + 0.5*C1, d + 0.5*D1)\n",
    "    C2 = k*h(x + 0.5*k, a + 0.5*A1, b + 0.5*B1, c + 0.5*C1, d + 0.5*D1)\n",
    "    D2 = k*j(x + 0.5*k, a + 0.5*A1, b + 0.5*B1, c + 0.5*C1, d + 0.5*D1)\n",
    "    \n",
    "    # third stage\n",
    "    A3 = k*f(x + 0.5*k, a + 0.5*A2, b + 0.5*B2, c + 0.5*C2, d + 0.5*D2)\n",
    "    B3 = k*g(x + 0.5*k, a + 0.5*A2, b + 0.5*B2, c + 0.5*C2, d + 0.5*D2)\n",
    "    C3 = k*h(x + 0.5*k, a + 0.5*A2, b + 0.5*B2, c + 0.5*C2, d + 0.5*D2)\n",
    "    D3 = k*j(x + 0.5*k, a + 0.5*A2, b + 0.5*B2, c + 0.5*C2, d + 0.5*D2)\n",
    "    \n",
    "    # fourth stage\n",
    "    A4 = k*f(x + k, a + A3, b + B3, c + C3, d + D3)\n",
    "    B4 = k*g(x + k, a + A3, b + B3, c + C3, d + D3)\n",
    "    C4 = k*h(x + k, a + A3, b + B3, c + C3, d + D3)\n",
    "    D4 = k*j(x + k, a + A3, b + B3, c + C3, d + D3)\n",
    "    \n",
    "    # update\n",
    "    a += (A1 + 2.0*(A2 + A3) + A4)/6.0\n",
    "    b += (B1 + 2.0*(B2 + B3) + B4)/6.0\n",
    "    c += (C1 + 2.0*(C2 + C3) + C4)/6.0\n",
    "    d += (D1 + 2.0*(D2 + D3) + D4)/6.0\n",
    "    x += k\n",
    "    \n",
    "    return a, b, c, d"
   ]
  },
  {
   "cell_type": "markdown",
   "metadata": {},
   "source": [
    "<h4> Iteration </h4>"
   ]
  },
  {
   "cell_type": "code",
   "execution_count": 644,
   "metadata": {
    "collapsed": false
   },
   "outputs": [
    {
     "data": {
      "text/plain": [
       "(-2.5360178914586644, 0.34999999999999998)"
      ]
     },
     "execution_count": 644,
     "metadata": {},
     "output_type": "execute_result"
    },
    {
     "data": {
      "image/png": "[encoded data removed]",
      "text/plain": [
       "<matplotlib.figure.Figure at 0x10e7bb4d0>"
      ]
     },
     "metadata": {},
     "output_type": "display_data"
    }
   ],
   "source": [
    "# domain\n",
    "a, b, n = -1, 1, 800\n",
    "\n",
    "# x-vector\n",
    "x = np.linspace(a, b, n)\n",
    "\n",
    "# step size\n",
    "k = (b - a)/float(n)\n",
    "\n",
    "# matrix solution\n",
    "U = np.zeros((4, n))\n",
    "# ------------------------------------------------------------/\n",
    "\"\"\"\n",
    "NUMERICAL TESTS\n",
    "---------------------------------------------------------\n",
    "p      q      r      s      l     force\n",
    "---------------------------------------------------------\n",
    "-0.05  -1.0   0.05   0.01   1      4.5*cosh(pi*x)**(-2)\n",
    " 0.05  -1.0   0.05   0.01  -1      4.5*cosh(pi*x)**(-2)\n",
    " 0.05   1.8   0.05   0.0   -1      4.5*cos(pi*x)**(-2)\n",
    " 0.05   0.01  0.01   0.25   1      0.0\n",
    " 0.05   0.01  0.01   0.25   1      0.25*cos(1.13*x)\n",
    "-0.12   0.2   0.05   0.1    2     -2*cos(1.13*x)\n",
    "-0.05  -0.5   0.15   0.5    0.001  0.005*exp(-0.05*x**2)\n",
    "-0.05  -0.5   0.15   0.5    0.001  0.05*exp(-0.05*x**2)\n",
    "-0.05  -0.5   0.15   0.5    0.001  0.5*exp(-0.05*x**2)\n",
    "-0.05  -0.5   0.15   0.5    0.001  1.5*exp(-0.05*x**2)\n",
    "-0.01  -0.5   0.05   0.5    0.001  1.5*exp(-0.05*x**2)\n",
    " 0.01  -0.5  -0.5    0.5    0.01   2*exp(-0.05*x**2)\n",
    " 0.01  -0.7  -0.5    0.5    0.01  -2*exp(-5*x**2)\n",
    "---------------------------------------------------------\n",
    "\"\"\"\n",
    "r, s = 0.01, 0.25\n",
    "p, q = 0.05, 0.01\n",
    "# ------------------------------------------------------------/\n",
    "for i in range(n):\n",
    "    U[:,i] = p, q, r, s\n",
    "    p, q, r, s = rk(a, p, q, r, s)\n",
    "# ------------------------------------------------------------/    \n",
    "plt.figure(figsize=(5,5))\n",
    "plt.plot(x, U[3,:], lw = 2, alpha = 0.85, color = 'deepskyblue')\n",
    "plt.grid(color='lightslategray', alpha=0.90)\n",
    "plt.ylim(U[3,:].min() - .1, U[3,:].max() + .1)"
   ]
  },
  {
   "cell_type": "code",
   "execution_count": 585,
   "metadata": {
    "collapsed": false
   },
   "outputs": [
    {
     "data": {
      "image/png": "[encoded data removed]",
      "text/plain": [
       "<matplotlib.figure.Figure at 0x10e428890>"
      ]
     },
     "metadata": {},
     "output_type": "display_data"
    }
   ],
   "source": [
    "# ------------------------------------------------------------/\n",
    "def evolution(step):\n",
    "    plt.figure(figsize=(5,5))\n",
    "    plt.plot(U[3,:step], U[2,:step], lw = 2, alpha = 0.75, color = 'springgreen')\n",
    "    plt.grid(color='lightslategray', alpha=0.90)\n",
    "    plt.xlim(U[3,:].min() - .1, U[3,:].max() + .1)\n",
    "    plt.ylim(U[2,:].min() - .1, U[2,:].max() + .1)\n",
    "# --------------------------------------------------/\n",
    "# interactive plot\n",
    "step = widgets.IntSlider(min=0, max=n, description='step')\n",
    "interact(evolution, step=step)"
   ]
  },
  {
   "cell_type": "markdown",
   "metadata": {},
   "source": [
    "> NB property of [FVNTS](http://www.fvnts.ch)"
   ]
  }
 ],
 "metadata": {
  "anaconda-cloud": {},
  "kernelspec": {
   "display_name": "Python [default]",
   "language": "python",
   "name": "python2"
  },
  "language_info": {
   "codemirror_mode": {
    "name": "ipython",
    "version": 2
   },
   "file_extension": ".py",
   "mimetype": "text/x-python",
   "name": "python",
   "nbconvert_exporter": "python",
   "pygments_lexer": "ipython2",
   "version": "2.7.12"
  },
  "widgets": {
   "state": {
    "b469982a60704f3d9e28ecb153d03fab": {
     "views": [
      {
       "cell_index": 10
      }
     ]
    }
   },
   "version": "1.2.0"
  }
 },
 "nbformat": 4,
 "nbformat_minor": 1
}
